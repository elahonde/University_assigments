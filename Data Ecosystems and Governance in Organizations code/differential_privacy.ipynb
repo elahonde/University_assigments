{
 "cells": [
  {
   "cell_type": "markdown",
   "metadata": {},
   "source": [
    "# Differential Privacy Demonstration\n",
    "\n",
    "This notebook illustrates **two** core differential privacy (DP) techniques:\n",
    "\n",
    "- **Laplace Mechanism (Global DP)**: Adding noise to a counting query.\n",
    "- **Randomized Response (Local DP)**: Users flip their own bits with a certain probability.\n",
    "\n",
    "We'll walk through these steps:\n",
    "1. Create a synthetic binary dataset.\n",
    "2. Use the **Laplace mechanism** to release a noisy count.\n",
    "3. Apply **randomized response** to each individual's bit.\n",
    "4. Demonstrate how we can estimate the true fraction of \"Yes\" answers.\n",
    "5. Discuss a high-level note on **privacy budgets**.\n"
   ]
  },
  {
   "cell_type": "markdown",
   "metadata": {},
   "source": [
    "## Step 1: Create a Synthetic Binary Dataset\n",
    "\n",
    "We'll simulate 1,000 individuals, each with a binary feature (e.g., \"Did they purchase our product?\").\n",
    "- `1` = Yes\n",
    "- `0` = No\n",
    "\n",
    "We assume ~30% say \"Yes\". We'll print the first 10 rows and the total count of \"Yes\" answers."
   ]
  },
  {
   "cell_type": "code",
   "execution_count": null,
   "metadata": {},
   "outputs": [],
   "source": [
    "import numpy as np\n",
    "import pandas as pd\n",
    "import random\n",
    "\n",
    "np.random.seed(42)\n",
    "N = 1000\n",
    "data = np.random.choice([0,1], size=N, p=[0.7,0.3])  # ~30% 'Yes'\n",
    "df = pd.DataFrame({'Purchased': data})\n",
    "\n",
    "print(\"First 10 rows of data:\\n\", df.head(10))\n",
    "print(\"\\nTrue count of 'Yes' in entire dataset:\", df['Purchased'].sum())\n"
   ]
  },
  {
   "cell_type": "markdown",
   "metadata": {},
   "source": [
    "## Step 2: Laplace Mechanism (Global DP)\n",
    "\n",
    "For a **count** query, the (global) **sensitivity** is `1` (changing one record changes the count by at most 1). The Laplace mechanism adds noise drawn from a Laplace distribution centered at 0 with scale `sensitivity / ε`.\n",
    "\n",
    "We'll define a function to apply Laplace noise to our true count, then see how smaller ε yields more noise (and thus more privacy, but less accuracy)."
   ]
  },
  {
   "cell_type": "code",
   "execution_count": null,
   "metadata": {},
   "outputs": [],
   "source": [
    "def laplace_mechanism(true_value, epsilon, sensitivity=1.0):\n",
    "    scale = sensitivity / epsilon\n",
    "    noise = np.random.laplace(0, scale, 1)[0]\n",
    "    return true_value + noise\n",
    "\n",
    "def dp_count_laplace(data, epsilon):\n",
    "    true_count = np.sum(data)\n",
    "    dp_result = laplace_mechanism(true_count, epsilon, sensitivity=1.0)\n",
    "    return dp_result\n",
    "\n",
    "for eps in [0.1, 0.5, 1.0, 2.0]:\n",
    "    dp_count = dp_count_laplace(data, eps)\n",
    "    print(f\"DP Count with ε={eps}: {dp_count:.2f} (true count={sum(data)})\")\n",
    "\n",
    "print(\"\\nObservation:\")\n",
    "print(\"Lower ε => bigger noise => better privacy, but less accurate results.\")\n"
   ]
  },
  {
   "cell_type": "markdown",
   "metadata": {},
   "source": [
    "## Step 3: Randomized Response (Local DP)\n",
    "\n",
    "In **local differential privacy**, each user perturbs their own data **before** sending it to the aggregator. Here, each bit is flipped with probability `p`. This provides plausible deniability for any individual's true response.\n",
    "\n",
    "We can then **estimate** the true fraction of `1`s by correcting for this known probability of flipping."
   ]
  },
  {
   "cell_type": "code",
   "execution_count": null,
   "metadata": {},
   "outputs": [],
   "source": [
    "def randomized_response_localDP(bit, p=0.25):\n",
    "    flip = np.random.rand() < p\n",
    "    if flip:\n",
    "        return 1 - bit\n",
    "    else:\n",
    "        return bit\n",
    "\n",
    "def local_dp_estimate(bits, p=0.25):\n",
    "    noisy_bits = [randomized_response_localDP(b, p) for b in bits]\n",
    "    observed_fraction = np.mean(noisy_bits)\n",
    "    # Derive the true fraction from the observed fraction:\n",
    "    # E[Reported] = (1-p)*true_fraction + p*(1 - true_fraction)\n",
    "    # => true_fraction = (observed_fraction - p/2) / (1 - p)\n",
    "    true_fraction_est = (observed_fraction - (p/2)) / (1 - p)\n",
    "    return observed_fraction, true_fraction_est\n",
    "\n",
    "true_fraction = np.mean(data)\n",
    "observed_fr, est_fraction = local_dp_estimate(data, p=0.30)\n",
    "\n",
    "print(\"\\nLocal DP (Randomized Response) demonstration:\")\n",
    "print(f\" True fraction of 'Yes': {true_fraction:.3f}\")\n",
    "print(f\" Observed fraction in noisy data: {observed_fr:.3f}\")\n",
    "print(f\" Estimated fraction after correction: {est_fraction:.3f}\")\n"
   ]
  },
  {
   "cell_type": "markdown",
   "metadata": {},
   "source": [
    "## Step 4: Privacy Budget (High-Level Note)\n",
    "\n",
    "When performing **multiple queries** on the same dataset, you must track how their privacy costs **compose**. For the Laplace mechanism, the total ε can add up across queries. More sophisticated composition theorems (advanced, zero-Concentrated DP, or Rényi DP) give tighter bounds.\n",
    "\n",
    "Randomized response also has a local privacy parameter that must be tuned to balance utility (accuracy) and individual privacy.\n",
    "\n",
    "Note: For multiple queries on the same dataset, track your total privacy budget (ε)."
   ]
  },
  {
   "cell_type": "code",
   "execution_count": null,
   "metadata": {},
   "outputs": [],
   "source": []
  }
 ],
 "metadata": {
  "kernelspec": {
   "display_name": "Python 3",
   "language": "python",
   "name": "python3"
  },
  "language_info": {
   "codemirror_mode": {
    "name": "ipython",
    "version": 3
   },
   "file_extension": ".py",
   "mimetype": "text/x-python",
   "name": "python",
   "nbconvert_exporter": "python",
   "pygments_lexer": "ipython3",
   "version": "3.13.2"
  }
 },
 "nbformat": 4,
 "nbformat_minor": 4
}
