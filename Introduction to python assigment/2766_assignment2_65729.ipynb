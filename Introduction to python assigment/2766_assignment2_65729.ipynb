{
 "cells": [
  {
   "cell_type": "markdown",
   "id": "dd0c54d4",
   "metadata": {},
   "source": [
    "# Assignment 2 - Introduction to Python for Data Analysis\n",
    "\n",
    "This assignment will contain 4 questions with details as below. \n",
    "\n",
    "The due date is October 11th (Friday), 2024 23:59PM. Each late day will result in 20% loss of total points.\n",
    "\n",
    "You will need to write your code solution and run your script to show the output (using print() or just call the function to show the result)."
   ]
  },
  {
   "cell_type": "markdown",
   "id": "f55acd1f",
   "metadata": {},
   "source": [
    "### Question 1 (4 points) While and For Loops\n",
    "\n",
    "Q1-1 (2 points). Write a Python program to count the total number of digits in a number using a while loop.\n",
    "\n",
    "For example, the number is 76869, so the output should be 5.\n",
    "\n"
   ]
  },
  {
   "cell_type": "code",
   "execution_count": 37,
   "id": "ccc06578",
   "metadata": {},
   "outputs": [
    {
     "name": "stdin",
     "output_type": "stream",
     "text": [
      "Number: 76869\n"
     ]
    },
    {
     "name": "stdout",
     "output_type": "stream",
     "text": [
      "Number of digits: 5\n"
     ]
    }
   ],
   "source": [
    "# Prompt the user to enter a number\n",
    "x = input(\"Number:\")\n",
    "\n",
    "# Initialize a counter for the number of digits\n",
    "count = 0\n",
    "\n",
    "# Calculate the number of digits in the entered number\n",
    "# First, convert x to an integer, then to a string to determine its length\n",
    "count2 = len(str(int(x)))\n",
    "\n",
    "# Loop while count2 is greater than 0\n",
    "while count2 > 0:\n",
    "    count += 1  # Increment the counter for each digit\n",
    "    count2 -= 1  # Decrease the number of remaining digits\n",
    "\n",
    "# Print the total number of digits\n",
    "print(\"Number of digits:\", count)"
   ]
  },
  {
   "cell_type": "markdown",
   "id": "377bf860",
   "metadata": {},
   "source": [
    "Q1-2 (2 points). Writing a Python program to print the list [10, 20, 30, 40 ,50] in reverse order using a for loop. \n"
   ]
  },
  {
   "cell_type": "code",
   "execution_count": 51,
   "id": "2e9ac5f6",
   "metadata": {},
   "outputs": [
    {
     "name": "stdout",
     "output_type": "stream",
     "text": [
      "[50, 40, 30, 20, 10]\n"
     ]
    }
   ],
   "source": [
    "# Initialize a list x with five integer elements\n",
    "x = [10, 20, 30, 40, 50]\n",
    "\n",
    "# Create an empty list y to store the reversed elements\n",
    "y = []\n",
    "\n",
    "# Reverse the original list x in place\n",
    "x.reverse()\n",
    "\n",
    "# Loop through each element in the reversed list x\n",
    "for i in x:\n",
    "    # Add the current element to the list y\n",
    "    y.append(i)\n",
    "\n",
    "# Print the list y, which now contains the reversed elements of x\n",
    "print(y)"
   ]
  },
  {
   "cell_type": "markdown",
   "id": "d1c76a64",
   "metadata": {},
   "source": [
    "### Question 2 (6 points) Numpy for Monte Carlo Simulation\n",
    "\n",
    "Monte Carlo is a city in Monacco where the famous Monte Carlo casino is located.\n",
    "\n",
    "In light of this, Monte Carlo methods (or Monte Carlo experiments) are a broad class of computational algorithms that rely on repeated random sampling to obtain numerical results. Their essential idea is using randomness to solve problems that might be deterministic in principle. They are often used in physical and mathematical problems and are most useful when it is difficult or impossible to use other approaches. Monte Carlo methods are mainly used in three problem classes: optimization, numerical integration, and generating draws from a probability distribution.\n",
    "\n",
    "Estimate the Pi\n",
    "\n",
    "#### In order to estimate the 𝜋, the idea is to simulate random (x, y) points in a 2-D plane with domain as a square of side 1 unit. Imagine a circle inside the same domain with same diameter and inscribed into the square. \n",
    "\n",
    "We can generate a large number of uniformly distributed random points and plot them on the graph. These points can be in any position within the square i.e. between (0,0) and (1,1). We keep track of the total number of points, and the number of points that are inside the circle. If we divide the number of points within the circle,  𝑁𝑖𝑛𝑛𝑒𝑟 by the total number of points,  𝑁𝑡𝑜𝑡𝑎𝑙, we should get a value that is an approximation of the ratio of the areas we calculated above,  𝜋/4\n"
   ]
  },
  {
   "cell_type": "markdown",
   "id": "6fd91a11",
   "metadata": {},
   "source": [
    "Q2-1 (3 points). Write a function approximate_pi with argument number_draws to approximate the Pi value using Monte Carlo simulations. You should use numpy.random to make random draws. Please call your function with 1000 draws and show the estimated value of Pi.\n"
   ]
  },
  {
   "cell_type": "code",
   "execution_count": 41,
   "id": "f894465d",
   "metadata": {},
   "outputs": [
    {
     "name": "stdout",
     "output_type": "stream",
     "text": [
      "Estimated value of π with 1000 draws: 3.164\n"
     ]
    }
   ],
   "source": [
    "import numpy as np # Importing the NumPy library for numerical operations\n",
    "\n",
    "def approximate_pi(number_draws):\n",
    "    # Generate random x and y coordinates uniformly distributed between 0 and 1\n",
    "    x = np.random.rand(number_draws)\n",
    "    y = np.random.rand(number_draws)\n",
    "    \n",
    "    # Calculate the squared distance from the origin (0,0) for each point\n",
    "    distance = x**2 + y**2\n",
    "    \n",
    "    # Count how many points fall inside the unit circle (distance <= 1)\n",
    "    N_inner = np.sum(distance <= 1)\n",
    "    \n",
    "    # The total number of points drawn\n",
    "    N_total = number_draws\n",
    "    \n",
    "    # Estimate the value of π using the ratio of points inside the circle\n",
    "    pi_estimate = 4 * (N_inner / N_total)\n",
    "    \n",
    "    return pi_estimate\n",
    "\n",
    "# Call the function with 1000 random draws and store the estimated value of π\n",
    "estimated_pi = approximate_pi(1000)\n",
    "# Print the estimated value of π\n",
    "print(\"Estimated value of π with 1000 draws:\", estimated_pi)"
   ]
  },
  {
   "cell_type": "markdown",
   "id": "7e13bc6a",
   "metadata": {},
   "source": [
    "Q2-2 (3 points). Run 1000 simulations, with each simulation consisting of up to 1000 random draws. Provide **a rough estimate** of how many random draws are needed to achieve an accuracy of 99% when approximating Pi (by comparing your result with numpy.pi, the true value of Pi in the NumPy library)."
   ]
  },
  {
   "cell_type": "code",
   "execution_count": 86,
   "id": "30167822-3667-4aa7-be28-792fe542ace5",
   "metadata": {},
   "outputs": [
    {
     "name": "stdout",
     "output_type": "stream",
     "text": [
      "Average number of draws needed to reach 99% accuracy: 18.25\n"
     ]
    }
   ],
   "source": [
    "# The accuracy threshold is 1% (Pi estimate should fall between 99% and 101% of the true value)\n",
    "tolerance = 0.01\n",
    "pi_true = np.pi\n",
    "lower_bound = pi_true * (1 - tolerance)  # Lower bound: 99% of Pi\n",
    "upper_bound = pi_true * (1 + tolerance)  # Upper bound: 101% of Pi\n",
    "\n",
    "num_simulations = 1000 #Defining the number of simulation to run\n",
    "x = []  # Initialize an empty list to store the number of draws per simulation\n",
    "\n",
    "\n",
    "for simulation in range(num_simulations): # Loop through each simulation\n",
    "    draws = 0  # Start with zero draws\n",
    "    pi_estimate = 0  # Initialize the Pi estimate to zero\n",
    "    \n",
    "    while not (lower_bound <= pi_estimate <= upper_bound): # Keep estimating Pi until it falls within the 99% - 101% range of the true value\n",
    "        draws += 1  # Add one to the number of draws\n",
    "        pi_estimate = approximate_pi(draws)  # Estimate Pi using the current number of draws\n",
    "    \n",
    "    # Add the number of draws required for this simulation to achieve the target accuracy\n",
    "    x.append(draws)\n",
    "\n",
    "# Calculate and print the average number of draws needed to achieve 99% accuracy across all simulations\n",
    "average_draws = np.mean(x)\n",
    "print(\"Average number of draws needed to reach 99% accuracy:\", average_draws)\n"
   ]
  },
  {
   "cell_type": "markdown",
   "id": "81e6182a",
   "metadata": {},
   "source": [
    "### Question 3 (10 points) Files, Strings, and Iterations \n",
    "We have learned strings, iterations, and processing text tiles in Python. We are expected to be familimar with these concepts, theories and applications.\n",
    "\n",
    "Please open the \"mbox.txt\" file (the one we have accessed in previous classes) and do the following exercises. \"mbox.txt\" is a record of email communications among team members of a open source software team. \n"
   ]
  },
  {
   "cell_type": "markdown",
   "id": "3b1af9be",
   "metadata": {},
   "source": [
    "Q3-1 (1 point). Show the current working directory"
   ]
  },
  {
   "cell_type": "code",
   "execution_count": 47,
   "id": "869d3153",
   "metadata": {},
   "outputs": [
    {
     "name": "stdout",
     "output_type": "stream",
     "text": [
      "C:\\Users\\eloil\\Downloads\\lecture7_code\n"
     ]
    }
   ],
   "source": [
    "import os  # Import the os module\n",
    "\n",
    "# Change the current working directory to the specified path\n",
    "os.chdir(\"C:/Users/eloil/Downloads/lecture7_code\")  \n",
    "\n",
    "# Get the current working directory\n",
    "current_directory = os.getcwd()  \n",
    "\n",
    "# Print the current working directory\n",
    "print(current_directory)  "
   ]
  },
  {
   "cell_type": "markdown",
   "id": "9d04a0ea",
   "metadata": {},
   "source": [
    "Q3-2 (3 points). Find the lines starting with \"From \" and print the number of these lines."
   ]
  },
  {
   "cell_type": "code",
   "execution_count": 45,
   "id": "455cc101",
   "metadata": {},
   "outputs": [
    {
     "name": "stdin",
     "output_type": "stream",
     "text": [
      "File Name: mbox.txt\n"
     ]
    },
    {
     "name": "stdout",
     "output_type": "stream",
     "text": [
      "Number of lines starting with 'From': 1797\n"
     ]
    }
   ],
   "source": [
    "# Prompt the user to input the name of the file they want to open\n",
    "file = input(\"File Name:\")  \n",
    "\n",
    "# Open the specified file in read mode\n",
    "fhand = open(file)  \n",
    "\n",
    "# Initialize a counter to keep track of lines starting with \"From \"\n",
    "count = 0  \n",
    "\n",
    "# Loop through each line in the opened file\n",
    "for line in fhand:  \n",
    "    # Check if the current line starts with \"From \"\n",
    "    if line.startswith(\"From \"):  \n",
    "        # If it does, increment the count by 1\n",
    "        count += 1  \n",
    "\n",
    "# Print the total number of lines that start with \"From \"\n",
    "print(\"Number of lines starting with 'From':\", count)  "
   ]
  },
  {
   "cell_type": "markdown",
   "id": "ce7692b2",
   "metadata": {},
   "source": [
    "Q3-3 (3 points). When you encounter a line that starts with \"X-DSPAM-Confidence:\" pull apart the line to extract the floating-point number on the line. This number is a measure of spam confidence value of the focal email. If the value is larger than 0.8, we consider this email having a high spam value.  \n",
    "\n",
    "Please report the number of emails with high spam confidence values."
   ]
  },
  {
   "cell_type": "code",
   "execution_count": 49,
   "id": "9a82a90b",
   "metadata": {},
   "outputs": [
    {
     "name": "stdin",
     "output_type": "stream",
     "text": [
      "File Name: mbox.txt\n"
     ]
    },
    {
     "name": "stdout",
     "output_type": "stream",
     "text": [
      "The Number of high spam value emails is 1385\n"
     ]
    }
   ],
   "source": [
    "# Prompt the user to enter the name of the file they want to analyze\n",
    "file = input(\"File Name:\")  \n",
    "\n",
    "# Open the specified file in read mode\n",
    "fhand = open(file)  \n",
    "\n",
    "# Initialize a counter to keep track of high spam value emails\n",
    "count = 0  \n",
    "\n",
    "# Loop through each line in the opened file\n",
    "for line in fhand:  \n",
    "    # Check if the current line starts with \"X-DSPAM-Confidence:\"\n",
    "    if line.startswith(\"X-DSPAM-Confidence:\"):  \n",
    "        # Split the line into words and convert the second word (spam confidence value) to a float\n",
    "        x = float(line.split()[1])  \n",
    "        \n",
    "        # Check if the spam confidence value is greater than 0.8\n",
    "        if x > 0.8:  \n",
    "            # If it is, increment the count of high spam value emails\n",
    "            count += 1  \n",
    "\n",
    "# Print the total number of emails with high spam confidence values\n",
    "print(\"The Number of high spam value emails is\", count)  "
   ]
  },
  {
   "cell_type": "markdown",
   "id": "bc33d542",
   "metadata": {},
   "source": [
    "Q3-4 (3 points). Each message sender has an email domain. For example, at Nova SBE, our email domain is \"novasbe.pt\". The domain of \"stephen.marquard@uct.ac.za\" is \"uct.ac.za\"\n",
    "\n",
    "Please find all email domians in \"mbox.txt\" and report the number of messages sent from each domain using dictionaries."
   ]
  },
  {
   "cell_type": "code",
   "execution_count": 32,
   "id": "24b6e264",
   "metadata": {},
   "outputs": [
    {
     "name": "stdin",
     "output_type": "stream",
     "text": [
      "File Name: mbox.txt\n"
     ]
    },
    {
     "name": "stdout",
     "output_type": "stream",
     "text": [
      "uct.ac.za 192\n",
      "media.berkeley.edu 112\n",
      "umich.edu 982\n",
      "iupui.edu 1072\n",
      "caret.cam.ac.uk 314\n",
      "gmail.com 50\n",
      "indiana.edu 356\n",
      "et.gatech.edu 34\n",
      "vt.edu 220\n",
      "lancaster.ac.uk 28\n",
      "ucdavis.edu 2\n",
      "ufp.pt 56\n",
      "txstate.edu 34\n",
      "stanford.edu 24\n",
      "whitman.edu 34\n",
      "rsmart.com 16\n",
      "fhda.edu 2\n",
      "bu.edu 28\n",
      "unicon.net 18\n",
      "loi.nl 18\n",
      "utoronto.ca 2\n"
     ]
    }
   ],
   "source": [
    "# Prompt the user to enter the name of the file they want to analyze\n",
    "file = input(\"File Name:\")  \n",
    "\n",
    "# Open the specified file in read mode\n",
    "fhand = open(file)  \n",
    "\n",
    "# Initialize a dictionary to store the count of emails from each domain\n",
    "domains = dict()  \n",
    "\n",
    "# Loop through each line in the opened file\n",
    "for line in fhand:  \n",
    "    # Check if the current line starts with \"From\"\n",
    "    if line.startswith(\"From\"):  \n",
    "        # Split the line into words and get the second word (the email address)\n",
    "        y = line.split()[1]  \n",
    "        \n",
    "        # Split the email address at \"@\" to extract the domain\n",
    "        x = y.split(\"@\")[1]  \n",
    "        \n",
    "        # If the domain is not already in the dictionary, add it with a count of 1\n",
    "        if x not in domains:  \n",
    "            domains[x] = 1  \n",
    "        # If the domain is already in the dictionary, increment its count\n",
    "        else:  \n",
    "            domains[x] += 1  \n",
    "\n",
    "# Loop through the dictionary to print each domain and its associated count\n",
    "for key in domains:  \n",
    "    print(key, domains[key])  "
   ]
  }
 ],
 "metadata": {
  "kernelspec": {
   "display_name": "Python 3 (ipykernel)",
   "language": "python",
   "name": "python3"
  },
  "language_info": {
   "codemirror_mode": {
    "name": "ipython",
    "version": 3
   },
   "file_extension": ".py",
   "mimetype": "text/x-python",
   "name": "python",
   "nbconvert_exporter": "python",
   "pygments_lexer": "ipython3",
   "version": "3.12.4"
  }
 },
 "nbformat": 4,
 "nbformat_minor": 5
}
