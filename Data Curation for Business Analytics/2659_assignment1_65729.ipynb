{
 "cells": [
  {
   "cell_type": "markdown",
   "metadata": {
    "id": "aMsET9540ezR"
   },
   "source": [
    "## Assignment 1 Data Analysis using Pandas\n",
    "\n",
    "This assignment will contain 13 questions with details as below. The due date is Friday, November 8th, 23:59 pm. Each late day will result in 20% loss of total points."
   ]
  },
  {
   "cell_type": "markdown",
   "metadata": {
    "id": "0ixiRTpx0ezT"
   },
   "source": [
    "The file of 'Daily reports (csse_covid_19_daily_reports)' contains 01-01-2023 (MM-DD-YYYY) daily case report. All timestamps are in UTC (GMT+0). More Description can be found in [COVID-19 Data Repository by the Center for Systems Science and Engineering (CSSE) at Johns Hopkins University.](https://github.com/CSSEGISandData/COVID-19)\n",
    "\n",
    "References:\n",
    "\n",
    "- Dong E, Du H, Gardner L. An interactive web-based dashboard to track COVID-19 in real time. Lancet Inf Dis. 20(5):533-534. doi: 10.1016/S1473-3099(20)30120-1\n"
   ]
  },
  {
   "cell_type": "markdown",
   "metadata": {
    "id": "HuawZ8oS0ezU"
   },
   "source": [
    "Field/Feature/Column names descriptions are listed as follows\n",
    "\n",
    "- FIPS: US only. Federal Information Processing Standards code that uniquely identifies counties within the USA.\n",
    "\n",
    "- Admin2: County name. US only.\n",
    "\n",
    "- Province_State: Province, state or dependency name.\n",
    "\n",
    "- Country_Region: Country, region or sovereignty name. The names of locations included on the Website correspond with the official designations used by the U.S. Department of State.\n",
    "\n",
    "- Last Update: MM/DD/YYYY HH:mm:ss (24 hour format, in UTC).\n",
    "\n",
    "- Lat and Long: Dot locations on the dashboard. All points (except for Australia) shown on the map are based on geographic centroids, and are not representative of a specific address, building or any location at a spatial scale finer than a province/state. Australian dots are located at the centroid of the largest city in each state.\n",
    "\n",
    "- Confirmed: Counts include confirmed and probable (where reported).\n",
    "\n",
    "- Deaths: Counts include confirmed and probable (where reported).\n",
    "\n",
    "- Recovered: Recovered cases are estimates based on local media reports, and state and local reporting when available, and therefore may be substantially lower than the true number. US state-level recovered cases are from COVID Tracking Project. We stopped to maintain the recovered cases.\n",
    "\n",
    "- Active: Active cases = total cases - total recovered - total deaths. This value is for reference only after we stopped to report the recovered cases.\n",
    "\n",
    "- Incident_Rate: Incidence Rate = cases per 100,000 persons.\n",
    "\n",
    "- Case_Fatality_Ratio (%): Case-Fatality Ratio (%) = 100 * Number recorded deaths / Number cases.\n",
    "\n",
    "- All cases, deaths, and recoveries reported are based on the date of initial report.\n"
   ]
  },
  {
   "cell_type": "markdown",
   "metadata": {
    "id": "7IfTdZtx0ezV"
   },
   "source": [
    "Note: Please download the dataset \"01-01-2023.csv\" from the moodle to your local path for performing the analysis, as some modification on the original data was done to suit the needs for this assignment."
   ]
  },
  {
   "cell_type": "code",
   "execution_count": null,
   "metadata": {
    "id": "7pxSIZk20ezW"
   },
   "outputs": [],
   "source": [
    "import pandas as pd\n",
    "import numpy as np"
   ]
  },
  {
   "cell_type": "markdown",
   "metadata": {
    "id": "eszmTSTn0ezX"
   },
   "source": [
    "**Question 1 (2 points)**\n",
    "\n",
    "Now you need to use ```pandas``` to read the downloaded file from your local path. Print the column names, and also print a general description of it by using ```.describe()``` function.**"
   ]
  },
  {
   "cell_type": "code",
   "execution_count": null,
   "metadata": {
    "id": "zFCfzR1-0ezX"
   },
   "outputs": [],
   "source": [
    "### Q1\n"
   ]
  },
  {
   "cell_type": "markdown",
   "metadata": {
    "id": "00U5V1Fb0ezY"
   },
   "source": [
    "**Question 2  (2 points)**\n",
    "\n",
    "Meanwhile, the data contains a few errors that need to be resolved:\n",
    "\n",
    "- the ```Long``` column is mistakenly encoded as ```Long_```\n",
    "- the ```Recovered``` column contains mostly missing values and needs to be deleted\n",
    "- the ```Active``` column contains mostly missing values and needs to be deleted\n",
    "- the ```Incident_Rate``` column is miscalculated by multiplying 100 on its original value"
   ]
  },
  {
   "cell_type": "code",
   "execution_count": null,
   "metadata": {
    "id": "IJeqvM7-0ezZ"
   },
   "outputs": [],
   "source": [
    "### Q2\n"
   ]
  },
  {
   "cell_type": "markdown",
   "metadata": {
    "id": "zhEopJ_S0ezZ"
   },
   "source": [
    "**Question 3  (2 points)**\n",
    "\n",
    "The column ```Last_Update``` involves some timestamps that are not in the year of 2023. Find them out and delete those rows.\n",
    "\n",
    "**The updated dataframe should have only rows with timestamp in 2023.**\n",
    "\n",
    "Hint: use value_counts() to count unique values first."
   ]
  },
  {
   "cell_type": "code",
   "execution_count": null,
   "metadata": {
    "id": "UbIvBC530ezZ"
   },
   "outputs": [],
   "source": [
    "### Q3\n"
   ]
  },
  {
   "cell_type": "markdown",
   "metadata": {
    "id": "Yk2aXUNi0eza"
   },
   "source": [
    "**Question 4  (2 points)**\n",
    "\n",
    "There are two provinces/states that have the same latitude (```Lat```) 52.939900. Print out these two provinces/states."
   ]
  },
  {
   "cell_type": "code",
   "execution_count": null,
   "metadata": {
    "id": "9LvwzA3O0eza",
    "scrolled": true
   },
   "outputs": [],
   "source": [
    "### Q4\n"
   ]
  },
  {
   "cell_type": "markdown",
   "metadata": {
    "id": "YHNqX0rW0eza"
   },
   "source": [
    "**Question 5  (2 points)**\n",
    "\n",
    "Calculate and display the average Confirmed cases across all regions (report one overall average).\n",
    "\n",
    "Calculate and display the median Deaths for U.S. counties (report one overall median)."
   ]
  },
  {
   "cell_type": "code",
   "execution_count": null,
   "metadata": {
    "id": "3_qX8_P_0eza"
   },
   "outputs": [],
   "source": [
    "### Q5\n"
   ]
  },
  {
   "cell_type": "markdown",
   "metadata": {
    "id": "i9pfMJlk0eza"
   },
   "source": [
    "**Question 6 (2 points)**\n",
    "\n",
    "Show the difference of average ```Deaths``` number between Alabama in US and Wyoming in US ."
   ]
  },
  {
   "cell_type": "code",
   "execution_count": null,
   "metadata": {
    "id": "a66cHJgQ0eza"
   },
   "outputs": [],
   "source": [
    "### Q6"
   ]
  },
  {
   "cell_type": "markdown",
   "metadata": {
    "id": "F-WyrqBA0ezb"
   },
   "source": [
    "**Question 7 (4 points)**\n",
    "\n",
    "Create a subset of the DataFrame containing only samples collected in the U.S. where Admin2 is not \"Unassigned\".\n",
    "\n",
    "Extract the State Name: Using the values in the Combined_Key column, create a new column called State_recovered that contains only the name of the province, state, or dependency. Exclude any county names and country/region information.\n",
    "\n",
    "**Note: For all remaining data curation tasks, use this U.S. subset DataFrame.**"
   ]
  },
  {
   "cell_type": "code",
   "execution_count": null,
   "metadata": {
    "id": "USe5B4lu0ezb",
    "scrolled": true
   },
   "outputs": [],
   "source": [
    "### Q7\n"
   ]
  },
  {
   "cell_type": "markdown",
   "metadata": {
    "id": "5BhnCJ_x0ezb"
   },
   "source": [
    "**Question 8 (2 points)**\n",
    "\n",
    "Compute the correlation between ```Confirmed, Deaths, Incident_Rate, Case_Fatality_Ratio```. What do you observe?"
   ]
  },
  {
   "cell_type": "code",
   "execution_count": null,
   "metadata": {
    "id": "sIqW2dH_3iOw"
   },
   "outputs": [],
   "source": [
    "### Q8\n"
   ]
  },
  {
   "cell_type": "markdown",
   "metadata": {
    "id": "3YFIAsCl0ezb"
   },
   "source": [
    "**Question 9 (2 points)**\n",
    "\n",
    "Find the number of miscalculated samples when the ```Case_Fatality_Ratio```(%) is not equal to 100 * Deaths number divided by Confirmed number. Note that in this case you also need to make sure the ```Confirmed```, as the denominator, is not zero."
   ]
  },
  {
   "cell_type": "code",
   "execution_count": null,
   "metadata": {
    "id": "QMuns52Y0ezc"
   },
   "outputs": [],
   "source": [
    "### Q9\n"
   ]
  },
  {
   "cell_type": "markdown",
   "metadata": {
    "id": "wy5Tai0B0ezc"
   },
   "source": [
    "**Question 10 (2 points)**\n",
    "Create a new column ```Case_Fatality_Ratio_short``` to extract and store the first three digits of the original values.\n",
    "Create a new column ```Case_Fatality_Ratio_calculated``` and compute Case-Fatality Ratio(%) by yourself. Store the first three digits of the computed values as well.\n",
    "\n",
    "Note that Case-Fatality Ratio(%) = 100 * Number recorded deaths / Number cases."
   ]
  },
  {
   "cell_type": "code",
   "execution_count": null,
   "metadata": {
    "id": "ybICVOXU0ezc"
   },
   "outputs": [],
   "source": [
    "### Q10\n"
   ]
  },
  {
   "cell_type": "markdown",
   "metadata": {
    "id": "nHAGowrJ0ezd"
   },
   "source": [
    "**Question 11 (2 points)**\n",
    "\n",
    "Find the number of samples when the ```Case_Fatality_Ratio_short``` is not equal to```Case_Fatality_Ratio_calculated```. Remember to drop the missing values appeared in these two columns, before count the sample size."
   ]
  },
  {
   "cell_type": "code",
   "execution_count": null,
   "metadata": {
    "id": "eGpnJBsZ0ezd"
   },
   "outputs": [],
   "source": [
    "### Q11\n"
   ]
  },
  {
   "attachments": {
    "image.png": {
     "image/png": "[encoded data removed]"
    }
   },
   "cell_type": "markdown",
   "metadata": {
    "id": "RSZHFUkM0ezd"
   },
   "source": [
    "**Question 12 (4 points)**\n",
    "\n",
    "We define a new concept, acceptable percentage error, to measure the magnitude of error. It is calculated as the absolute percentage difference between the calculated value and the original stored value (rounded to three decimal places), using the formula:\n",
    "![image.png](attachment:image.png)\n",
    "\n",
    "Compute the acceptable percentage error and add it as a new column to the DataFrame.\n",
    "\n",
    "Group this continuous acceptable percentage error into the following discrete bins: [0, 0.5], (0.5, 1], (1, 10], and (10, 50]. Note that 0 is included in the first bin.\n",
    "\n",
    "Use the value_counts() method to check the distribution of samples across these bins.\n",
    "\n",
    "Compute this acceptable percentage error, add it as a new column of the data frame, and group this continuous acceptable percentage error into discrete bins ([0,0.5], (0.5,1], (1,10], (10,50]) to generate a new categorical object. \n"
   ]
  },
  {
   "cell_type": "code",
   "execution_count": null,
   "metadata": {},
   "outputs": [],
   "source": [
    "### Q12\n"
   ]
  },
  {
   "cell_type": "markdown",
   "metadata": {
    "id": "Z1BPsPHi0ezd"
   },
   "source": [
    "**Question 13 (2 points)**\n",
    "\n",
    "Use ```map()``` method to perform element-wise transformation on the generated categorical object and create a new series, according to the following rules:\n",
    "\n",
    "- if error is in range [0, 0.5] or (0.5, 1], transform as 'Accept'\n",
    "- if error is in range (1, 10] or (10, 50], transform as 'Reject'\n",
    "\n",
    "Use ```value_counts()``` to check the counts for these three types."
   ]
  },
  {
   "cell_type": "code",
   "execution_count": null,
   "metadata": {},
   "outputs": [],
   "source": [
    "### Q13\n"
   ]
  }
 ],
 "metadata": {
  "colab": {
   "provenance": [
    {
     "file_id": "1Tg3IJl3yjaecdJvNbvSLTeauiEw6P5Rt",
     "timestamp": 1696168179514
    },
    {
     "file_id": "1ZcmKXUfv0BDRnvjTp5fnRgXkKN3rhnCS",
     "timestamp": 1695922999265
    }
   ]
  },
  "kernelspec": {
   "display_name": "Python 3 (ipykernel)",
   "language": "python",
   "name": "python3"
  },
  "language_info": {
   "codemirror_mode": {
    "name": "ipython",
    "version": 3
   },
   "file_extension": ".py",
   "mimetype": "text/x-python",
   "name": "python",
   "nbconvert_exporter": "python",
   "pygments_lexer": "ipython3",
   "version": "3.11.5"
  },
  "latex_envs": {
   "LaTeX_envs_menu_present": true,
   "autoclose": false,
   "autocomplete": true,
   "bibliofile": "biblio.bib",
   "cite_by": "apalike",
   "current_citInitial": 1,
   "eqLabelWithNumbers": true,
   "eqNumInitial": 1,
   "hotkeys": {
    "equation": "Ctrl-E",
    "itemize": "Ctrl-I"
   },
   "labels_anchors": false,
   "latex_user_defs": false,
   "report_style_numbering": false,
   "user_envs_cfg": false
  }
 },
 "nbformat": 4,
 "nbformat_minor": 1
}
